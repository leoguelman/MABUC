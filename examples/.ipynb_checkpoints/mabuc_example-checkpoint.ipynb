{
 "cells": [
  {
   "cell_type": "markdown",
   "id": "2a4f0ee9",
   "metadata": {},
   "source": [
    "## MABUC Example"
   ]
  },
  {
   "cell_type": "code",
   "execution_count": 1,
   "id": "c14c2929",
   "metadata": {},
   "outputs": [],
   "source": [
    "from mabuc.mabuc import Mabuc"
   ]
  },
  {
   "cell_type": "code",
   "execution_count": null,
   "id": "a0573484",
   "metadata": {},
   "outputs": [],
   "source": [
    "m = Mabuc(pr_D=0.5, pr_B=0.5, T=1000)\n",
    "m.generate_samples(R=1000)\n",
    "m.get_stats()"
   ]
  },
  {
   "cell_type": "code",
   "execution_count": null,
   "id": "01794a5d",
   "metadata": {},
   "outputs": [],
   "source": [
    "m.plot()"
   ]
  }
 ],
 "metadata": {
  "kernelspec": {
   "display_name": "Python 3 (ipykernel)",
   "language": "python",
   "name": "python3"
  },
  "language_info": {
   "codemirror_mode": {
    "name": "ipython",
    "version": 3
   },
   "file_extension": ".py",
   "mimetype": "text/x-python",
   "name": "python",
   "nbconvert_exporter": "python",
   "pygments_lexer": "ipython3",
   "version": "3.8.3"
  }
 },
 "nbformat": 4,
 "nbformat_minor": 5
}
